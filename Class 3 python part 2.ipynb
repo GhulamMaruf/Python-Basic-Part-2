{
 "cells": [
  {
   "cell_type": "markdown",
   "id": "a92031e5",
   "metadata": {},
   "source": [
    "# Array Function"
   ]
  },
  {
   "cell_type": "markdown",
   "id": "bcef3337",
   "metadata": {},
   "source": [
    "<h3 style=\"color: #ff0000; font-weigth: 700\">Array Features -\n",
    "<li>Ordered</li>\n",
    "<li>Changeable</li>\n",
    "<li>Allow Duplicates</li></h3>"
   ]
  },
  {
   "cell_type": "code",
   "execution_count": 1,
   "id": "3bcc95e3",
   "metadata": {},
   "outputs": [],
   "source": [
    "import array as ar"
   ]
  },
  {
   "cell_type": "code",
   "execution_count": 2,
   "id": "6e5c3594",
   "metadata": {},
   "outputs": [],
   "source": [
    "a = ar.array('i',[2,4,1,9])"
   ]
  },
  {
   "cell_type": "markdown",
   "id": "86dfcebe",
   "metadata": {},
   "source": [
    "a"
   ]
  },
  {
   "cell_type": "code",
   "execution_count": 3,
   "id": "87bfb75f",
   "metadata": {},
   "outputs": [
    {
     "data": {
      "text/plain": [
       "1728329798512"
      ]
     },
     "execution_count": 3,
     "metadata": {},
     "output_type": "execute_result"
    }
   ],
   "source": [
    "id(a)"
   ]
  },
  {
   "cell_type": "code",
   "execution_count": 4,
   "id": "f2a6e9a4",
   "metadata": {},
   "outputs": [],
   "source": [
    "a = ar.array('f',[9,3,4,5,2])"
   ]
  },
  {
   "cell_type": "code",
   "execution_count": 5,
   "id": "b40da4ea",
   "metadata": {},
   "outputs": [
    {
     "data": {
      "text/plain": [
       "array('f', [9.0, 3.0, 4.0, 5.0, 2.0])"
      ]
     },
     "execution_count": 5,
     "metadata": {},
     "output_type": "execute_result"
    }
   ],
   "source": [
    "a"
   ]
  },
  {
   "cell_type": "markdown",
   "id": "fa6e29fa",
   "metadata": {},
   "source": [
    "<h3 style=\"color: #ff0000; font-weigth: 700\">You can't put floating in a signed int</h3>"
   ]
  },
  {
   "cell_type": "code",
   "execution_count": 6,
   "id": "e0707f91",
   "metadata": {},
   "outputs": [
    {
     "ename": "TypeError",
     "evalue": "integer argument expected, got float",
     "output_type": "error",
     "traceback": [
      "\u001b[1;31m---------------------------------------------------------------------------\u001b[0m",
      "\u001b[1;31mTypeError\u001b[0m                                 Traceback (most recent call last)",
      "\u001b[1;32m<ipython-input-6-d78b86753a89>\u001b[0m in \u001b[0;36m<module>\u001b[1;34m\u001b[0m\n\u001b[1;32m----> 1\u001b[1;33m \u001b[0ma\u001b[0m \u001b[1;33m=\u001b[0m \u001b[0mar\u001b[0m\u001b[1;33m.\u001b[0m\u001b[0marray\u001b[0m\u001b[1;33m(\u001b[0m\u001b[1;34m'i'\u001b[0m\u001b[1;33m,\u001b[0m\u001b[1;33m[\u001b[0m\u001b[1;36m2.4\u001b[0m\u001b[1;33m,\u001b[0m\u001b[1;36m6\u001b[0m\u001b[1;33m,\u001b[0m\u001b[1;36m7\u001b[0m\u001b[1;33m,\u001b[0m\u001b[1;36m3\u001b[0m\u001b[1;33m]\u001b[0m\u001b[1;33m)\u001b[0m\u001b[1;33m\u001b[0m\u001b[1;33m\u001b[0m\u001b[0m\n\u001b[0m",
      "\u001b[1;31mTypeError\u001b[0m: integer argument expected, got float"
     ]
    }
   ],
   "source": [
    "a = ar.array('i',[2.4,6,7,3])"
   ]
  },
  {
   "cell_type": "code",
   "execution_count": null,
   "id": "afa231f9",
   "metadata": {},
   "outputs": [],
   "source": [
    "a"
   ]
  },
  {
   "cell_type": "code",
   "execution_count": null,
   "id": "fb155900",
   "metadata": {},
   "outputs": [],
   "source": [
    "import matplotlib.pyplot as plt"
   ]
  },
  {
   "cell_type": "code",
   "execution_count": null,
   "id": "53485bc1",
   "metadata": {},
   "outputs": [],
   "source": [
    "plt.hist(a)"
   ]
  },
  {
   "cell_type": "code",
   "execution_count": null,
   "id": "fef2d515",
   "metadata": {},
   "outputs": [],
   "source": [
    "b = ar.array('i',[1,3,5,2,6])\n",
    "e = [6,5,4.6,7,3.40,'maruf']"
   ]
  },
  {
   "cell_type": "code",
   "execution_count": null,
   "id": "781df9ed",
   "metadata": {},
   "outputs": [],
   "source": [
    "import sys\n",
    "\n",
    "print(sys.getsizeof(b))\n",
    "\n",
    "print(sys.getsizeof(e))"
   ]
  },
  {
   "cell_type": "code",
   "execution_count": null,
   "id": "a3dc1799",
   "metadata": {},
   "outputs": [],
   "source": [
    "import array as ar\n",
    "student_roll = ar.array('i',[])\n",
    "\n",
    "item = int(input('Number of students? '))\n",
    "\n",
    "for x in range(item):\n",
    "    new_roll = int(input('Write numbers ')) \n",
    "    student_roll.append(new_roll)\n",
    "    \n",
    "    "
   ]
  },
  {
   "cell_type": "code",
   "execution_count": null,
   "id": "6a7a0ecb",
   "metadata": {},
   "outputs": [],
   "source": [
    "import array as arr\n",
    "\n",
    "s_roll = arr.array('i',[])\n",
    "\n",
    "all_item = int(input('How many numbers you have? '))\n",
    "\n",
    "for x in range(all_item):\n",
    "    p_roll = int(input('Write numbers '))\n",
    "    \n",
    "    s_roll.append(p_roll)"
   ]
  },
  {
   "cell_type": "code",
   "execution_count": null,
   "id": "35b4c59f",
   "metadata": {},
   "outputs": [],
   "source": [
    "import array as ars\n",
    "\n",
    "ar_people = ars.array('i',[])\n",
    "\n",
    "ar_item = int(input('What is total number? '))\n",
    "\n",
    "for x in range(ar_item):\n",
    "    ar_count = int(input('Number one by one? '))\n",
    "    ar_people.append(ar_count)\n",
    "    "
   ]
  },
  {
   "cell_type": "code",
   "execution_count": null,
   "id": "75c5e6e9",
   "metadata": {},
   "outputs": [],
   "source": [
    "ar_people\n"
   ]
  },
  {
   "cell_type": "code",
   "execution_count": null,
   "id": "0bff954a",
   "metadata": {},
   "outputs": [],
   "source": [
    "import array as ars\n",
    "\n",
    "ar_people = ars.array('i',[])\n",
    "\n",
    "ar_item = int(input('What is total number? '))\n",
    "\n",
    "for x in range(ar_item):\n",
    "    ar_count = int(input('Number one by one? '))\n",
    "    ar_people.append(ar_count)"
   ]
  },
  {
   "cell_type": "code",
   "execution_count": null,
   "id": "1260558a",
   "metadata": {},
   "outputs": [],
   "source": [
    "import array as ir\n",
    "\n",
    "ir_st = ir.array('i',[])\n",
    "ir_items = int(input('Enter numbers '))\n",
    "\n",
    "for x in range(ir_items):\n",
    "    new_st = int(input('Number per one '))\n",
    "    ir_st.append(new_st)"
   ]
  },
  {
   "cell_type": "code",
   "execution_count": null,
   "id": "962a8520",
   "metadata": {},
   "outputs": [],
   "source": [
    "ir_st"
   ]
  },
  {
   "cell_type": "code",
   "execution_count": null,
   "id": "8b3afa1c",
   "metadata": {},
   "outputs": [],
   "source": [
    "ir_st.insert(4,102)"
   ]
  },
  {
   "cell_type": "markdown",
   "id": "200b1394",
   "metadata": {},
   "source": [
    "<h3 style=\"color: #ff0000; font-weigth: 700\">insert - (index number, value)</h3>"
   ]
  },
  {
   "cell_type": "code",
   "execution_count": null,
   "id": "b78156d7",
   "metadata": {},
   "outputs": [],
   "source": [
    "ir_st"
   ]
  },
  {
   "cell_type": "code",
   "execution_count": null,
   "id": "63d5b1ae",
   "metadata": {},
   "outputs": [],
   "source": [
    "ir_st.remove(2)"
   ]
  },
  {
   "cell_type": "markdown",
   "id": "efe4d2dd",
   "metadata": {},
   "source": [
    "<h3 style=\"color: #ff0000; font-weigth: 700\">remove - (value)</h3>\n"
   ]
  },
  {
   "cell_type": "code",
   "execution_count": null,
   "id": "0538b7f6",
   "metadata": {},
   "outputs": [],
   "source": [
    "ir_st"
   ]
  },
  {
   "cell_type": "code",
   "execution_count": null,
   "id": "ac697f75",
   "metadata": {},
   "outputs": [],
   "source": [
    "ir_st.index(102)"
   ]
  },
  {
   "cell_type": "code",
   "execution_count": null,
   "id": "96546c44",
   "metadata": {},
   "outputs": [],
   "source": [
    "5 in ir_st"
   ]
  },
  {
   "cell_type": "markdown",
   "id": "d10d4a48",
   "metadata": {},
   "source": [
    "<h3 style=\"color: #ff0000; font-weigth: 700\">If the value stays in the array it will show 'True', otherwise False</h3>"
   ]
  },
  {
   "cell_type": "code",
   "execution_count": null,
   "id": "8dc3f3df",
   "metadata": {},
   "outputs": [],
   "source": [
    "200 in ir_st"
   ]
  },
  {
   "cell_type": "code",
   "execution_count": null,
   "id": "6d751708",
   "metadata": {},
   "outputs": [],
   "source": [
    "ir_st.insert(4,200)"
   ]
  },
  {
   "cell_type": "code",
   "execution_count": null,
   "id": "ba7d2c76",
   "metadata": {},
   "outputs": [],
   "source": [
    "ir_st"
   ]
  },
  {
   "cell_type": "code",
   "execution_count": null,
   "id": "44a5554b",
   "metadata": {},
   "outputs": [],
   "source": [
    "ir_st.insert(5,1)"
   ]
  },
  {
   "cell_type": "markdown",
   "id": "0a626e96",
   "metadata": {},
   "source": [
    "<h3 style=\"color: #ff0000; font-weigth: 700\">insert - you can replace an index with a value</h3>\n"
   ]
  },
  {
   "cell_type": "code",
   "execution_count": null,
   "id": "c74ad44e",
   "metadata": {},
   "outputs": [],
   "source": [
    "import array as arrs\n",
    "new_arrs = arrs.array('i',[34,78,90,34,12,45])"
   ]
  },
  {
   "cell_type": "code",
   "execution_count": null,
   "id": "20fda632",
   "metadata": {},
   "outputs": [],
   "source": [
    "new_arrs.insert(0,40)"
   ]
  },
  {
   "cell_type": "code",
   "execution_count": null,
   "id": "354b6e06",
   "metadata": {},
   "outputs": [],
   "source": [
    "new_arrs"
   ]
  },
  {
   "cell_type": "code",
   "execution_count": null,
   "id": "6dc65bdf",
   "metadata": {},
   "outputs": [],
   "source": [
    "ir_st"
   ]
  },
  {
   "cell_type": "code",
   "execution_count": null,
   "id": "831bec5b",
   "metadata": {},
   "outputs": [],
   "source": [
    "ir_st.remove(1)"
   ]
  },
  {
   "cell_type": "markdown",
   "id": "3f152225",
   "metadata": {},
   "source": [
    "<h3 style=\"color: #ff0000; font-weigth: 700\">If you use remove function, if there have same value but more than one, according to index(ascending) first will be removed</h3>"
   ]
  },
  {
   "cell_type": "code",
   "execution_count": null,
   "id": "9cba9040",
   "metadata": {},
   "outputs": [],
   "source": [
    "ir_st"
   ]
  },
  {
   "cell_type": "markdown",
   "id": "184b6543",
   "metadata": {},
   "source": [
    "<h3 style=\"color: #ff0000; font-weigth: 700\">del - delete value by index number</h3>"
   ]
  },
  {
   "cell_type": "code",
   "execution_count": null,
   "id": "dfd7e29e",
   "metadata": {},
   "outputs": [],
   "source": [
    "import array as arrs\n",
    "new_arrs = arrs.array('i',[34,78,90,34,12,45])"
   ]
  },
  {
   "cell_type": "markdown",
   "id": "96872c0b",
   "metadata": {},
   "source": [
    "<h3 style=\"color: #ff0000; font-weigth: 700\">del - must keep [ ] not ( )</h3>"
   ]
  },
  {
   "cell_type": "code",
   "execution_count": null,
   "id": "d7cbc9fe",
   "metadata": {},
   "outputs": [],
   "source": [
    "del new_arrs[5]"
   ]
  },
  {
   "cell_type": "code",
   "execution_count": null,
   "id": "90b0d72c",
   "metadata": {},
   "outputs": [],
   "source": [
    "new_arrs"
   ]
  },
  {
   "cell_type": "code",
   "execution_count": null,
   "id": "b2a980ca",
   "metadata": {},
   "outputs": [],
   "source": [
    "new_arrs"
   ]
  },
  {
   "cell_type": "markdown",
   "id": "06a7f1ae",
   "metadata": {},
   "source": [
    "# List Function"
   ]
  },
  {
   "cell_type": "markdown",
   "id": "b7cc19a4",
   "metadata": {},
   "source": [
    "<h3 style=\"color: #ff0000; font-weigth: 700\">List Features -\n",
    "<li>Ordered</li>\n",
    "<li>Changeable</li>\n",
    "<li>Allow Duplicates</li>\n",
    "<li>Represnt by Square Brackets [ ] </li></h3>"
   ]
  },
  {
   "cell_type": "code",
   "execution_count": null,
   "id": "7ecb7945",
   "metadata": {},
   "outputs": [],
   "source": [
    "li = [12,45,78,'Wordwar',20,'98']"
   ]
  },
  {
   "cell_type": "code",
   "execution_count": null,
   "id": "9d795276",
   "metadata": {},
   "outputs": [],
   "source": [
    "type(li)"
   ]
  },
  {
   "cell_type": "markdown",
   "id": "d2b4e9e1",
   "metadata": {},
   "source": [
    "<h3 style=\"color: #ff0000; font-weigth: 700\">list - you can put number, float, string, boolean all in a list</h3>"
   ]
  },
  {
   "cell_type": "markdown",
   "id": "673c8764",
   "metadata": {},
   "source": [
    "<h3 style=\"color: #ff0000; font-weigth: 700\">list - find value by index number</h3>"
   ]
  },
  {
   "cell_type": "code",
   "execution_count": null,
   "id": "e1346b03",
   "metadata": {},
   "outputs": [],
   "source": [
    "li[3]"
   ]
  },
  {
   "cell_type": "markdown",
   "id": "a91c25f8",
   "metadata": {},
   "source": [
    "<h3 style=\"color: #ff0000; font-weigth: 700\">list - you can show from negative/reverse</h3>"
   ]
  },
  {
   "cell_type": "code",
   "execution_count": null,
   "id": "6f8133cf",
   "metadata": {},
   "outputs": [],
   "source": [
    "li[-1]"
   ]
  },
  {
   "cell_type": "markdown",
   "id": "eac0838f",
   "metadata": {},
   "source": [
    "<h3 style=\"color: #ff0000; font-weigth: 700\">list - remember: from negative there have no zero(0) number index, start from -1</h3>"
   ]
  },
  {
   "cell_type": "code",
   "execution_count": null,
   "id": "d55558c6",
   "metadata": {},
   "outputs": [],
   "source": [
    "li[-4]"
   ]
  },
  {
   "cell_type": "code",
   "execution_count": null,
   "id": "b7d51c3f",
   "metadata": {},
   "outputs": [],
   "source": [
    "li"
   ]
  },
  {
   "cell_type": "markdown",
   "id": "29077616",
   "metadata": {},
   "source": [
    "<h3 style=\"color: #ff0000; font-weigth: 700\">list - you can se a bundary</h3>"
   ]
  },
  {
   "cell_type": "code",
   "execution_count": null,
   "id": "3d8ddc2d",
   "metadata": {},
   "outputs": [],
   "source": [
    "li[1:4]"
   ]
  },
  {
   "cell_type": "markdown",
   "id": "7ff95eea",
   "metadata": {},
   "source": [
    "<h3 style=\"color: #ff0000; font-weigth: 700\">list (from positive) - will not show the last index(4)</h3>"
   ]
  },
  {
   "cell_type": "code",
   "execution_count": null,
   "id": "0f832050",
   "metadata": {},
   "outputs": [],
   "source": [
    "li"
   ]
  },
  {
   "cell_type": "code",
   "execution_count": null,
   "id": "c5d106be",
   "metadata": {},
   "outputs": [],
   "source": [
    "li[-1]"
   ]
  },
  {
   "cell_type": "markdown",
   "id": "74df37d8",
   "metadata": {},
   "source": [
    "<h3 style=\"color: #ff0000; font-weigth: 700\">list - change a value by calling index number</h3>"
   ]
  },
  {
   "cell_type": "code",
   "execution_count": null,
   "id": "d35635fc",
   "metadata": {},
   "outputs": [],
   "source": [
    "li[1] = 'Limitless'"
   ]
  },
  {
   "cell_type": "code",
   "execution_count": null,
   "id": "7959d0f3",
   "metadata": {},
   "outputs": [],
   "source": [
    "li"
   ]
  },
  {
   "cell_type": "markdown",
   "id": "d70ceb64",
   "metadata": {},
   "source": [
    "<h3 style=\"color: #ff0000; font-weigth: 700\">list - in a list another one or more lists may have</h3>"
   ]
  },
  {
   "cell_type": "code",
   "execution_count": null,
   "id": "fb8d23d4",
   "metadata": {},
   "outputs": [],
   "source": [
    "l2 = [23,78,90,['Wold','fine',31,96],65,39]"
   ]
  },
  {
   "cell_type": "code",
   "execution_count": null,
   "id": "95d9e1d8",
   "metadata": {},
   "outputs": [],
   "source": [
    "l2"
   ]
  },
  {
   "cell_type": "code",
   "execution_count": null,
   "id": "0682fead",
   "metadata": {},
   "outputs": [],
   "source": [
    "type(l2)"
   ]
  },
  {
   "cell_type": "code",
   "execution_count": null,
   "id": "fbcb2c79",
   "metadata": {},
   "outputs": [],
   "source": [
    "l2[3]"
   ]
  },
  {
   "cell_type": "code",
   "execution_count": null,
   "id": "73ce2053",
   "metadata": {},
   "outputs": [],
   "source": [
    "l2[3][2]"
   ]
  },
  {
   "cell_type": "code",
   "execution_count": null,
   "id": "62a3c2db",
   "metadata": {},
   "outputs": [],
   "source": [
    "l2[3][2] = 20"
   ]
  },
  {
   "cell_type": "code",
   "execution_count": null,
   "id": "e2b58988",
   "metadata": {},
   "outputs": [],
   "source": [
    "l2"
   ]
  },
  {
   "cell_type": "markdown",
   "id": "7fc8d3dc",
   "metadata": {},
   "source": [
    "<h3 style=\"color: #ff0000; font-weigth: 700\">list - creating list using constructor list( )</h3>"
   ]
  },
  {
   "cell_type": "code",
   "execution_count": null,
   "id": "5840172d",
   "metadata": {},
   "outputs": [],
   "source": [
    "l3 = list((4,6,9,'worldcare'))"
   ]
  },
  {
   "cell_type": "code",
   "execution_count": null,
   "id": "01c0c6e3",
   "metadata": {},
   "outputs": [],
   "source": [
    "l3"
   ]
  },
  {
   "cell_type": "code",
   "execution_count": null,
   "id": "8f3dffce",
   "metadata": {},
   "outputs": [],
   "source": [
    "l4 = list(('data'))"
   ]
  },
  {
   "cell_type": "code",
   "execution_count": null,
   "id": "49f2747c",
   "metadata": {},
   "outputs": [],
   "source": [
    "l4"
   ]
  },
  {
   "cell_type": "code",
   "execution_count": null,
   "id": "e7fbc9d4",
   "metadata": {},
   "outputs": [],
   "source": [
    "type(l4)"
   ]
  },
  {
   "cell_type": "markdown",
   "id": "47d374da",
   "metadata": {},
   "source": [
    "<h3 style=\"color: #ff0000; font-weigth: 700\">list - can be counted, how many times a value has been used</h3>"
   ]
  },
  {
   "cell_type": "code",
   "execution_count": null,
   "id": "15fe32b6",
   "metadata": {},
   "outputs": [],
   "source": [
    "l5 = [1,3,7,[6,7,9,1],4,2,1,7]"
   ]
  },
  {
   "cell_type": "code",
   "execution_count": null,
   "id": "8c50522c",
   "metadata": {},
   "outputs": [],
   "source": [
    "l5.count(1)"
   ]
  },
  {
   "cell_type": "code",
   "execution_count": null,
   "id": "a0179073",
   "metadata": {},
   "outputs": [],
   "source": [
    "l5.append(23)"
   ]
  },
  {
   "cell_type": "code",
   "execution_count": null,
   "id": "df9339a0",
   "metadata": {},
   "outputs": [],
   "source": [
    "l5"
   ]
  },
  {
   "cell_type": "code",
   "execution_count": null,
   "id": "5fe2c0f2",
   "metadata": {},
   "outputs": [],
   "source": [
    "l5.insert(1,'world')"
   ]
  },
  {
   "cell_type": "code",
   "execution_count": null,
   "id": "d71d58ac",
   "metadata": {},
   "outputs": [],
   "source": [
    "l5"
   ]
  },
  {
   "cell_type": "code",
   "execution_count": null,
   "id": "68689c43",
   "metadata": {},
   "outputs": [],
   "source": [
    "l5.pop(-1)"
   ]
  },
  {
   "cell_type": "code",
   "execution_count": null,
   "id": "a01c5f36",
   "metadata": {},
   "outputs": [],
   "source": [
    "l5"
   ]
  },
  {
   "cell_type": "code",
   "execution_count": null,
   "id": "52a725a0",
   "metadata": {},
   "outputs": [],
   "source": [
    "l5.remove('world')"
   ]
  },
  {
   "cell_type": "code",
   "execution_count": null,
   "id": "f763c5ef",
   "metadata": {},
   "outputs": [],
   "source": [
    "l5"
   ]
  },
  {
   "cell_type": "code",
   "execution_count": null,
   "id": "7653976d",
   "metadata": {},
   "outputs": [],
   "source": [
    "del l5[2]"
   ]
  },
  {
   "cell_type": "code",
   "execution_count": null,
   "id": "e6b1ce42",
   "metadata": {},
   "outputs": [],
   "source": [
    "l5"
   ]
  },
  {
   "cell_type": "markdown",
   "id": "77f6ed93",
   "metadata": {},
   "source": [
    "# Tuple"
   ]
  },
  {
   "cell_type": "markdown",
   "id": "cf0b80f9",
   "metadata": {},
   "source": [
    "<h3 style=\"color: #ff0000; font-weigth: 700\">Tuple Features -\n",
    "<br/>\n",
    "<li>Ordered</li>\n",
    "<li>Un-Changeable or immutable</li>\n",
    "<li>Allow Duplicates</li>\n",
    "<li>Can't add new value after declaration</li>\n",
    "<li>Represnt by Square Brackets ( )</li></h3>"
   ]
  },
  {
   "cell_type": "code",
   "execution_count": 35,
   "id": "18bdd333",
   "metadata": {},
   "outputs": [
    {
     "data": {
      "text/plain": [
       "(1, 3, 7, [6, 7, 9, 1], 4, 2, 1, 7)"
      ]
     },
     "execution_count": 35,
     "metadata": {},
     "output_type": "execute_result"
    }
   ],
   "source": [
    "t1 = (1, 3, 7, [6, 7, 9, 1], 4, 2, 1, 7)\n",
    "t1\n"
   ]
  },
  {
   "cell_type": "markdown",
   "id": "37399441",
   "metadata": {},
   "source": [
    "<h3 style=\"color: #ff0000; font-weigth: 700\">tuple - may have list inside tuple</h3>"
   ]
  },
  {
   "cell_type": "code",
   "execution_count": 36,
   "id": "566d5e2d",
   "metadata": {},
   "outputs": [
    {
     "ename": "NameError",
     "evalue": "name 'l5' is not defined",
     "output_type": "error",
     "traceback": [
      "\u001b[1;31m---------------------------------------------------------------------------\u001b[0m",
      "\u001b[1;31mNameError\u001b[0m                                 Traceback (most recent call last)",
      "\u001b[1;32m<ipython-input-36-95249c3ae408>\u001b[0m in \u001b[0;36m<module>\u001b[1;34m\u001b[0m\n\u001b[0;32m      4\u001b[0m \u001b[0mar_5\u001b[0m \u001b[1;33m=\u001b[0m \u001b[0marr\u001b[0m\u001b[1;33m.\u001b[0m\u001b[0marray\u001b[0m\u001b[1;33m(\u001b[0m\u001b[1;34m'i'\u001b[0m\u001b[1;33m,\u001b[0m\u001b[1;33m[\u001b[0m\u001b[1;36m1\u001b[0m\u001b[1;33m,\u001b[0m\u001b[1;36m3\u001b[0m\u001b[1;33m,\u001b[0m\u001b[1;36m7\u001b[0m\u001b[1;33m,\u001b[0m\u001b[1;36m4\u001b[0m\u001b[1;33m,\u001b[0m\u001b[1;36m2\u001b[0m\u001b[1;33m,\u001b[0m\u001b[1;36m1\u001b[0m\u001b[1;33m,\u001b[0m\u001b[1;36m7\u001b[0m\u001b[1;33m,\u001b[0m\u001b[1;36m90\u001b[0m\u001b[1;33m]\u001b[0m\u001b[1;33m)\u001b[0m\u001b[1;33m\u001b[0m\u001b[1;33m\u001b[0m\u001b[0m\n\u001b[0;32m      5\u001b[0m \u001b[1;33m\u001b[0m\u001b[0m\n\u001b[1;32m----> 6\u001b[1;33m \u001b[0mprint\u001b[0m\u001b[1;33m(\u001b[0m\u001b[0msys\u001b[0m\u001b[1;33m.\u001b[0m\u001b[0mgetsizeof\u001b[0m\u001b[1;33m(\u001b[0m\u001b[0ml5\u001b[0m\u001b[1;33m)\u001b[0m\u001b[1;33m)\u001b[0m\u001b[1;33m\u001b[0m\u001b[1;33m\u001b[0m\u001b[0m\n\u001b[0m\u001b[0;32m      7\u001b[0m \u001b[0mprint\u001b[0m\u001b[1;33m(\u001b[0m\u001b[0msys\u001b[0m\u001b[1;33m.\u001b[0m\u001b[0mgetsizeof\u001b[0m\u001b[1;33m(\u001b[0m\u001b[0mt1\u001b[0m\u001b[1;33m)\u001b[0m\u001b[1;33m)\u001b[0m\u001b[1;33m\u001b[0m\u001b[1;33m\u001b[0m\u001b[0m\n\u001b[0;32m      8\u001b[0m \u001b[0mprint\u001b[0m\u001b[1;33m(\u001b[0m\u001b[0msys\u001b[0m\u001b[1;33m.\u001b[0m\u001b[0mgetsizeof\u001b[0m\u001b[1;33m(\u001b[0m\u001b[0mar_5\u001b[0m\u001b[1;33m)\u001b[0m\u001b[1;33m)\u001b[0m\u001b[1;33m\u001b[0m\u001b[1;33m\u001b[0m\u001b[0m\n",
      "\u001b[1;31mNameError\u001b[0m: name 'l5' is not defined"
     ]
    }
   ],
   "source": [
    "import array as arr\n",
    "import sys\n",
    "\n",
    "ar_5 = arr.array('i',[1,3,7,4,2,1,7,90])\n",
    "\n",
    "print(sys.getsizeof(l5))\n",
    "print(sys.getsizeof(t1))\n",
    "print(sys.getsizeof(ar_5))"
   ]
  },
  {
   "cell_type": "markdown",
   "id": "ffcba6fb",
   "metadata": {},
   "source": [
    "<h3 style=\"color: #ff0000; font-weigth: 700\">tuple - cost less space than list</h3>"
   ]
  },
  {
   "cell_type": "code",
   "execution_count": null,
   "id": "7f05a935",
   "metadata": {},
   "outputs": [],
   "source": [
    "type(t1)"
   ]
  },
  {
   "cell_type": "markdown",
   "id": "3e26cae2",
   "metadata": {},
   "source": [
    "<h3 style=\"color: #ff0000; font-weigth: 700\">tuple - If there need any change, you have migrate it as a list first, then work , then turn into tuple again</h3>"
   ]
  },
  {
   "cell_type": "code",
   "execution_count": null,
   "id": "1d9cbe22",
   "metadata": {},
   "outputs": [],
   "source": [
    "t2 = list(t1)"
   ]
  },
  {
   "cell_type": "code",
   "execution_count": null,
   "id": "2aed473d",
   "metadata": {},
   "outputs": [],
   "source": [
    "t2"
   ]
  },
  {
   "cell_type": "code",
   "execution_count": null,
   "id": "fdd47410",
   "metadata": {},
   "outputs": [],
   "source": [
    "type(t2)"
   ]
  },
  {
   "cell_type": "code",
   "execution_count": null,
   "id": "fbb651b8",
   "metadata": {},
   "outputs": [],
   "source": [
    "t2.append(100)"
   ]
  },
  {
   "cell_type": "code",
   "execution_count": null,
   "id": "395a7b4d",
   "metadata": {},
   "outputs": [],
   "source": [
    "t2"
   ]
  },
  {
   "cell_type": "code",
   "execution_count": null,
   "id": "f9470cbb",
   "metadata": {},
   "outputs": [],
   "source": [
    "t2.remove(4)"
   ]
  },
  {
   "cell_type": "code",
   "execution_count": 34,
   "id": "f847bf82",
   "metadata": {},
   "outputs": [
    {
     "ename": "NameError",
     "evalue": "name 't2' is not defined",
     "output_type": "error",
     "traceback": [
      "\u001b[1;31m---------------------------------------------------------------------------\u001b[0m",
      "\u001b[1;31mNameError\u001b[0m                                 Traceback (most recent call last)",
      "\u001b[1;32m<ipython-input-34-be5b813c2dd9>\u001b[0m in \u001b[0;36m<module>\u001b[1;34m\u001b[0m\n\u001b[1;32m----> 1\u001b[1;33m \u001b[0mt2\u001b[0m\u001b[1;33m\u001b[0m\u001b[1;33m\u001b[0m\u001b[0m\n\u001b[0m",
      "\u001b[1;31mNameError\u001b[0m: name 't2' is not defined"
     ]
    }
   ],
   "source": [
    "t2"
   ]
  },
  {
   "cell_type": "code",
   "execution_count": 33,
   "id": "c8a3206d",
   "metadata": {},
   "outputs": [
    {
     "ename": "NameError",
     "evalue": "name 't2' is not defined",
     "output_type": "error",
     "traceback": [
      "\u001b[1;31m---------------------------------------------------------------------------\u001b[0m",
      "\u001b[1;31mNameError\u001b[0m                                 Traceback (most recent call last)",
      "\u001b[1;32m<ipython-input-33-2915a35b2e30>\u001b[0m in \u001b[0;36m<module>\u001b[1;34m\u001b[0m\n\u001b[1;32m----> 1\u001b[1;33m \u001b[0mt1\u001b[0m \u001b[1;33m=\u001b[0m \u001b[0mtuple\u001b[0m\u001b[1;33m(\u001b[0m\u001b[0mt2\u001b[0m\u001b[1;33m)\u001b[0m\u001b[1;33m\u001b[0m\u001b[1;33m\u001b[0m\u001b[0m\n\u001b[0m",
      "\u001b[1;31mNameError\u001b[0m: name 't2' is not defined"
     ]
    }
   ],
   "source": [
    "t1 = tuple(t2)"
   ]
  },
  {
   "cell_type": "code",
   "execution_count": 32,
   "id": "70c52aa2",
   "metadata": {},
   "outputs": [
    {
     "ename": "NameError",
     "evalue": "name 't1' is not defined",
     "output_type": "error",
     "traceback": [
      "\u001b[1;31m---------------------------------------------------------------------------\u001b[0m",
      "\u001b[1;31mNameError\u001b[0m                                 Traceback (most recent call last)",
      "\u001b[1;32m<ipython-input-32-5db19043943a>\u001b[0m in \u001b[0;36m<module>\u001b[1;34m\u001b[0m\n\u001b[1;32m----> 1\u001b[1;33m \u001b[0mt1\u001b[0m\u001b[1;33m\u001b[0m\u001b[1;33m\u001b[0m\u001b[0m\n\u001b[0m",
      "\u001b[1;31mNameError\u001b[0m: name 't1' is not defined"
     ]
    }
   ],
   "source": [
    "t1"
   ]
  },
  {
   "cell_type": "markdown",
   "id": "40a8efda",
   "metadata": {},
   "source": [
    "<h3 style=\"color: #ff0000; font-weigth: 700\">tuple - can be added by U/M way</h3>"
   ]
  },
  {
   "cell_type": "code",
   "execution_count": 31,
   "id": "f7066d14",
   "metadata": {},
   "outputs": [
    {
     "ename": "NameError",
     "evalue": "name 't1' is not defined",
     "output_type": "error",
     "traceback": [
      "\u001b[1;31m---------------------------------------------------------------------------\u001b[0m",
      "\u001b[1;31mNameError\u001b[0m                                 Traceback (most recent call last)",
      "\u001b[1;32m<ipython-input-31-36a67a6af144>\u001b[0m in \u001b[0;36m<module>\u001b[1;34m\u001b[0m\n\u001b[0;32m      1\u001b[0m \u001b[0mt3\u001b[0m \u001b[1;33m=\u001b[0m \u001b[1;33m(\u001b[0m\u001b[1;36m220\u001b[0m\u001b[1;33m,\u001b[0m\u001b[1;36m300\u001b[0m\u001b[1;33m)\u001b[0m\u001b[1;33m\u001b[0m\u001b[1;33m\u001b[0m\u001b[0m\n\u001b[1;32m----> 2\u001b[1;33m \u001b[0mt1\u001b[0m \u001b[1;33m=\u001b[0m \u001b[0mt1\u001b[0m\u001b[1;33m+\u001b[0m\u001b[0mt3\u001b[0m\u001b[1;33m\u001b[0m\u001b[1;33m\u001b[0m\u001b[0m\n\u001b[0m",
      "\u001b[1;31mNameError\u001b[0m: name 't1' is not defined"
     ]
    }
   ],
   "source": [
    "t3 = (220,300)\n",
    "t1 = t1+t3"
   ]
  },
  {
   "cell_type": "code",
   "execution_count": 30,
   "id": "e5bac8fb",
   "metadata": {},
   "outputs": [
    {
     "ename": "NameError",
     "evalue": "name 't1' is not defined",
     "output_type": "error",
     "traceback": [
      "\u001b[1;31m---------------------------------------------------------------------------\u001b[0m",
      "\u001b[1;31mNameError\u001b[0m                                 Traceback (most recent call last)",
      "\u001b[1;32m<ipython-input-30-5db19043943a>\u001b[0m in \u001b[0;36m<module>\u001b[1;34m\u001b[0m\n\u001b[1;32m----> 1\u001b[1;33m \u001b[0mt1\u001b[0m\u001b[1;33m\u001b[0m\u001b[1;33m\u001b[0m\u001b[0m\n\u001b[0m",
      "\u001b[1;31mNameError\u001b[0m: name 't1' is not defined"
     ]
    }
   ],
   "source": [
    "t1"
   ]
  },
  {
   "cell_type": "markdown",
   "id": "e2cf58d9",
   "metadata": {},
   "source": [
    "# Set "
   ]
  },
  {
   "cell_type": "markdown",
   "id": "79e9873f",
   "metadata": {},
   "source": [
    "<h3 style=\"color: #ff0000; font-weigth: 700\">Set Features -\n",
    "<br/>\n",
    "<li>Un-Ordered</li>\n",
    "<li>Un-Changeable or immutable</li>\n",
    "<li>Not Allow Duplicates</li>\n",
    "<li>Can't add new value after declaration</li>\n",
    "<li>Represnt by Curly Brackets { }</li></h3>"
   ]
  },
  {
   "cell_type": "code",
   "execution_count": null,
   "id": "3eb696cb",
   "metadata": {},
   "outputs": [],
   "source": [
    "s1 = {1, 3, 7, 2, 1, 7, 100, 220, 300}\n",
    "s1"
   ]
  },
  {
   "cell_type": "code",
   "execution_count": 7,
   "id": "34d20859",
   "metadata": {},
   "outputs": [
    {
     "ename": "NameError",
     "evalue": "name 's1' is not defined",
     "output_type": "error",
     "traceback": [
      "\u001b[1;31m---------------------------------------------------------------------------\u001b[0m",
      "\u001b[1;31mNameError\u001b[0m                                 Traceback (most recent call last)",
      "\u001b[1;32m<ipython-input-7-aace77b23228>\u001b[0m in \u001b[0;36m<module>\u001b[1;34m\u001b[0m\n\u001b[1;32m----> 1\u001b[1;33m \u001b[0mtype\u001b[0m\u001b[1;33m(\u001b[0m\u001b[0ms1\u001b[0m\u001b[1;33m)\u001b[0m\u001b[1;33m\u001b[0m\u001b[1;33m\u001b[0m\u001b[0m\n\u001b[0m",
      "\u001b[1;31mNameError\u001b[0m: name 's1' is not defined"
     ]
    }
   ],
   "source": [
    "type(s1)"
   ]
  },
  {
   "cell_type": "code",
   "execution_count": null,
   "id": "3a9add15",
   "metadata": {},
   "outputs": [],
   "source": [
    "100 in s1"
   ]
  },
  {
   "cell_type": "code",
   "execution_count": null,
   "id": "f5bd6959",
   "metadata": {},
   "outputs": [],
   "source": [
    "240 in s1"
   ]
  },
  {
   "cell_type": "code",
   "execution_count": null,
   "id": "9001a425",
   "metadata": {},
   "outputs": [],
   "source": [
    "for x in s1:\n",
    "    print(x)"
   ]
  },
  {
   "cell_type": "code",
   "execution_count": null,
   "id": "9e6ddf9b",
   "metadata": {},
   "outputs": [],
   "source": [
    "s1.index(220)"
   ]
  },
  {
   "cell_type": "markdown",
   "id": "2fae4c42",
   "metadata": {},
   "source": [
    "<h3 style=\"color: #ff0000; font-weigth: 700\">Set - un-ordered, index will not work\n",
    "</h3>"
   ]
  },
  {
   "cell_type": "code",
   "execution_count": null,
   "id": "ef05e9ac",
   "metadata": {},
   "outputs": [],
   "source": [
    "s1"
   ]
  },
  {
   "cell_type": "code",
   "execution_count": null,
   "id": "6fa585f4",
   "metadata": {},
   "outputs": [],
   "source": [
    "s1.add(20)"
   ]
  },
  {
   "cell_type": "code",
   "execution_count": null,
   "id": "b40d41e7",
   "metadata": {},
   "outputs": [],
   "source": [
    "s1"
   ]
  },
  {
   "cell_type": "code",
   "execution_count": null,
   "id": "effe44c1",
   "metadata": {},
   "outputs": [],
   "source": [
    "s1.add(20)"
   ]
  },
  {
   "cell_type": "markdown",
   "id": "abc1eb74",
   "metadata": {},
   "source": [
    "<h3 style=\"color: #ff0000; font-weigth: 700\">set - doesn't support duplicate values</h3>"
   ]
  },
  {
   "cell_type": "code",
   "execution_count": null,
   "id": "d37dae27",
   "metadata": {},
   "outputs": [],
   "source": [
    "s1"
   ]
  },
  {
   "cell_type": "markdown",
   "id": "99d364c8",
   "metadata": {},
   "source": [
    "<h3 style=\"color: #ff0000; font-weigth: 700\">set - can be removed</h3>"
   ]
  },
  {
   "cell_type": "code",
   "execution_count": null,
   "id": "1cc7d51e",
   "metadata": {},
   "outputs": [],
   "source": [
    "s1.remove(2)\n",
    "s1"
   ]
  },
  {
   "cell_type": "code",
   "execution_count": null,
   "id": "227a38c9",
   "metadata": {},
   "outputs": [],
   "source": [
    "s1.remove(2)"
   ]
  },
  {
   "cell_type": "markdown",
   "id": "9591b786",
   "metadata": {},
   "source": [
    "<h3 style=\"color: #ff0000; font-weigth: 700\">set - use discard to overlook error</h3>"
   ]
  },
  {
   "cell_type": "code",
   "execution_count": null,
   "id": "615675fa",
   "metadata": {},
   "outputs": [],
   "source": [
    "s1.discard(7)"
   ]
  },
  {
   "cell_type": "code",
   "execution_count": null,
   "id": "b2ecf446",
   "metadata": {},
   "outputs": [],
   "source": [
    "s1"
   ]
  },
  {
   "cell_type": "code",
   "execution_count": null,
   "id": "a0a0d8f8",
   "metadata": {},
   "outputs": [],
   "source": [
    "s1.discard(7)\n",
    "s1"
   ]
  },
  {
   "cell_type": "markdown",
   "id": "76b68ea4",
   "metadata": {},
   "source": [
    "<h3 style=\"color: #ff0000; font-weigth: 700\">set - can be updated</h3>"
   ]
  },
  {
   "cell_type": "code",
   "execution_count": null,
   "id": "62b89b4d",
   "metadata": {},
   "outputs": [],
   "source": [
    "s1"
   ]
  },
  {
   "cell_type": "code",
   "execution_count": null,
   "id": "17136b3a",
   "metadata": {},
   "outputs": [],
   "source": [
    "s1.update([6,9,2])\n",
    "s1"
   ]
  },
  {
   "cell_type": "code",
   "execution_count": null,
   "id": "9cc32bcd",
   "metadata": {},
   "outputs": [],
   "source": [
    "s1"
   ]
  },
  {
   "cell_type": "markdown",
   "id": "bee07c67",
   "metadata": {},
   "source": [
    "<h3 style=\"color: #ff0000; font-weigth: 700\">set - intersection function, only keep common values matching 2 sets</h3>"
   ]
  },
  {
   "cell_type": "code",
   "execution_count": null,
   "id": "50abd295",
   "metadata": {},
   "outputs": [],
   "source": [
    "s1"
   ]
  },
  {
   "cell_type": "code",
   "execution_count": null,
   "id": "b3dfbe80",
   "metadata": {},
   "outputs": [],
   "source": [
    "s2 = { 6, 9, 20,45,81, 100, 220,'world'}"
   ]
  },
  {
   "cell_type": "code",
   "execution_count": null,
   "id": "82ab26c5",
   "metadata": {},
   "outputs": [],
   "source": [
    "s1.intersection(s2)"
   ]
  },
  {
   "cell_type": "markdown",
   "id": "b1f3d111",
   "metadata": {},
   "source": [
    "<h3 style=\"color: #ff0000; font-weigth: 700\">set - union function, only keep unique values from 2 set, duplicate values - only one time</h3>"
   ]
  },
  {
   "cell_type": "code",
   "execution_count": null,
   "id": "014a7829",
   "metadata": {},
   "outputs": [],
   "source": [
    "s1"
   ]
  },
  {
   "cell_type": "code",
   "execution_count": null,
   "id": "191c68cb",
   "metadata": {},
   "outputs": [],
   "source": [
    "s2"
   ]
  },
  {
   "cell_type": "code",
   "execution_count": null,
   "id": "f14cad05",
   "metadata": {},
   "outputs": [],
   "source": [
    "s1.union(s2)"
   ]
  },
  {
   "cell_type": "code",
   "execution_count": null,
   "id": "985ac83f",
   "metadata": {},
   "outputs": [],
   "source": [
    "s2.pop()"
   ]
  },
  {
   "cell_type": "code",
   "execution_count": null,
   "id": "6816af26",
   "metadata": {},
   "outputs": [],
   "source": [
    "s2"
   ]
  },
  {
   "cell_type": "markdown",
   "id": "af66beb4",
   "metadata": {},
   "source": [
    "# Dictionary"
   ]
  },
  {
   "cell_type": "markdown",
   "id": "9c18f063",
   "metadata": {},
   "source": [
    "<h3 style=\"color: #ff0000; font-weigth: 700\">Dictionary Features -\n",
    "<br/>&nbsp;\n",
    "<li>Ordered</li>\n",
    "<li>Changeable</li>\n",
    "<li>Does Not Allow Duplicates</li>\n",
    "<li>Represnt by Curly Brackets { }</li></h3>"
   ]
  },
  {
   "cell_type": "code",
   "execution_count": null,
   "id": "58a7cd52",
   "metadata": {},
   "outputs": [],
   "source": [
    "dict = {\n",
    "    \n",
    "    'name'     : 'Abdullah',\n",
    "    'professsion' : 'Teacher',\n",
    "    'age'       :  25\n",
    "}"
   ]
  },
  {
   "cell_type": "code",
   "execution_count": null,
   "id": "9cdb9253",
   "metadata": {},
   "outputs": [],
   "source": [
    "type(dict)"
   ]
  },
  {
   "cell_type": "code",
   "execution_count": null,
   "id": "51fa289f",
   "metadata": {},
   "outputs": [],
   "source": [
    "dict['age']"
   ]
  },
  {
   "cell_type": "code",
   "execution_count": null,
   "id": "ebf598be",
   "metadata": {},
   "outputs": [],
   "source": [
    "dict.keys()"
   ]
  },
  {
   "cell_type": "code",
   "execution_count": null,
   "id": "cd0d0bb5",
   "metadata": {},
   "outputs": [],
   "source": [
    "dict.values()"
   ]
  },
  {
   "cell_type": "code",
   "execution_count": null,
   "id": "4cdfb006",
   "metadata": {},
   "outputs": [],
   "source": [
    "dict.items()"
   ]
  },
  {
   "cell_type": "code",
   "execution_count": null,
   "id": "fc1a99b4",
   "metadata": {},
   "outputs": [],
   "source": [
    "for x in dict:\n",
    "    print(x)"
   ]
  },
  {
   "cell_type": "code",
   "execution_count": null,
   "id": "22990c18",
   "metadata": {},
   "outputs": [],
   "source": [
    "for x in dict:\n",
    "    print(dict[x])"
   ]
  },
  {
   "cell_type": "markdown",
   "id": "e829a88a",
   "metadata": {},
   "source": [
    "# DATA FRAME"
   ]
  },
  {
   "cell_type": "markdown",
   "id": "dbf25bb0",
   "metadata": {},
   "source": [
    "<h3 style=\"color: #ff0000; font-weigth: 700\">Column is vertical, Row is horizontal</h3>"
   ]
  },
  {
   "cell_type": "code",
   "execution_count": null,
   "id": "49e0471a",
   "metadata": {},
   "outputs": [],
   "source": [
    "dic1 = {\n",
    "    \n",
    "    'name'     : ['Abdullah','Mohammad'],\n",
    "    'professsion' : ['Teacher','Professor'],\n",
    "    'age'       :  [25, 29],\n",
    "    'dob'        : ['Nov 92', 'Nov 91']\n",
    "}"
   ]
  },
  {
   "cell_type": "code",
   "execution_count": null,
   "id": "347ca371",
   "metadata": {},
   "outputs": [],
   "source": [
    "\n",
    "dic1"
   ]
  },
  {
   "cell_type": "code",
   "execution_count": null,
   "id": "a042b627",
   "metadata": {},
   "outputs": [],
   "source": [
    "import pandas as pd"
   ]
  },
  {
   "cell_type": "code",
   "execution_count": null,
   "id": "a6eafbed",
   "metadata": {},
   "outputs": [],
   "source": [
    "df1 = pd.DataFrame(dic1)\n",
    "\n",
    "df1"
   ]
  },
  {
   "cell_type": "markdown",
   "id": "e8368701",
   "metadata": {},
   "source": [
    "<h3 style=\"color: #ff0000; font-weigth: 700\">To drop a column use 'drop' and axis=1 for any column, drop(column name, axis=1)</h3>\n"
   ]
  },
  {
   "cell_type": "code",
   "execution_count": null,
   "id": "1de49d20",
   "metadata": {},
   "outputs": [],
   "source": [
    "df1.drop('name',axis=1)"
   ]
  },
  {
   "cell_type": "code",
   "execution_count": null,
   "id": "56cd552b",
   "metadata": {},
   "outputs": [],
   "source": [
    "df1 = pd.DataFrame(dic1)\n",
    "\n",
    "df1"
   ]
  },
  {
   "cell_type": "code",
   "execution_count": null,
   "id": "f27c740d",
   "metadata": {},
   "outputs": [],
   "source": [
    "df1.drop('age', axis=1)"
   ]
  },
  {
   "cell_type": "markdown",
   "id": "82ae32ab",
   "metadata": {},
   "source": [
    "<h3 style=\"color: #ff0000; font-weigth: 700\">for deletion of any column - use drop('column name', axis = 1)</h3>\n"
   ]
  },
  {
   "cell_type": "code",
   "execution_count": null,
   "id": "7fa43cce",
   "metadata": {},
   "outputs": [],
   "source": [
    "df1 = pd.DataFrame(dic1)\n",
    "\n",
    "df1"
   ]
  },
  {
   "cell_type": "code",
   "execution_count": 16,
   "id": "a31ddede",
   "metadata": {},
   "outputs": [],
   "source": [
    "dic2 = {\n",
    "    \n",
    "    'name'     : ['Abdullah','Mohammad'],\n",
    "    'profession' : ['Teacher','Professor'],\n",
    "    'age'       :  [25, 29],\n",
    "    'dob'        : ['Nov 92', 'Nov 91'],\n",
    "    'area'      : ['Dhaka','Rajshahi']\n",
    "}"
   ]
  },
  {
   "cell_type": "code",
   "execution_count": 17,
   "id": "34ec29ca",
   "metadata": {},
   "outputs": [
    {
     "data": {
      "text/plain": [
       "{'name': ['Abdullah', 'Mohammad'],\n",
       " 'profession': ['Teacher', 'Professor'],\n",
       " 'age': [25, 29],\n",
       " 'dob': ['Nov 92', 'Nov 91'],\n",
       " 'area': ['Dhaka', 'Rajshahi']}"
      ]
     },
     "execution_count": 17,
     "metadata": {},
     "output_type": "execute_result"
    }
   ],
   "source": [
    "dic2"
   ]
  },
  {
   "cell_type": "code",
   "execution_count": 18,
   "id": "dbd6ee6c",
   "metadata": {},
   "outputs": [],
   "source": [
    "import pandas as pd"
   ]
  },
  {
   "cell_type": "code",
   "execution_count": 19,
   "id": "12dca4f5",
   "metadata": {},
   "outputs": [
    {
     "data": {
      "text/html": [
       "<div>\n",
       "<style scoped>\n",
       "    .dataframe tbody tr th:only-of-type {\n",
       "        vertical-align: middle;\n",
       "    }\n",
       "\n",
       "    .dataframe tbody tr th {\n",
       "        vertical-align: top;\n",
       "    }\n",
       "\n",
       "    .dataframe thead th {\n",
       "        text-align: right;\n",
       "    }\n",
       "</style>\n",
       "<table border=\"1\" class=\"dataframe\">\n",
       "  <thead>\n",
       "    <tr style=\"text-align: right;\">\n",
       "      <th></th>\n",
       "      <th>name</th>\n",
       "      <th>profession</th>\n",
       "      <th>age</th>\n",
       "      <th>dob</th>\n",
       "      <th>area</th>\n",
       "    </tr>\n",
       "  </thead>\n",
       "  <tbody>\n",
       "    <tr>\n",
       "      <th>0</th>\n",
       "      <td>Abdullah</td>\n",
       "      <td>Teacher</td>\n",
       "      <td>25</td>\n",
       "      <td>Nov 92</td>\n",
       "      <td>Dhaka</td>\n",
       "    </tr>\n",
       "    <tr>\n",
       "      <th>1</th>\n",
       "      <td>Mohammad</td>\n",
       "      <td>Professor</td>\n",
       "      <td>29</td>\n",
       "      <td>Nov 91</td>\n",
       "      <td>Rajshahi</td>\n",
       "    </tr>\n",
       "  </tbody>\n",
       "</table>\n",
       "</div>"
      ],
      "text/plain": [
       "       name profession  age     dob      area\n",
       "0  Abdullah    Teacher   25  Nov 92     Dhaka\n",
       "1  Mohammad  Professor   29  Nov 91  Rajshahi"
      ]
     },
     "execution_count": 19,
     "metadata": {},
     "output_type": "execute_result"
    }
   ],
   "source": [
    "df2 = pd.DataFrame(dic2)\n",
    "df2"
   ]
  },
  {
   "cell_type": "code",
   "execution_count": 20,
   "id": "0aeaf284",
   "metadata": {},
   "outputs": [
    {
     "data": {
      "text/html": [
       "<div>\n",
       "<style scoped>\n",
       "    .dataframe tbody tr th:only-of-type {\n",
       "        vertical-align: middle;\n",
       "    }\n",
       "\n",
       "    .dataframe tbody tr th {\n",
       "        vertical-align: top;\n",
       "    }\n",
       "\n",
       "    .dataframe thead th {\n",
       "        text-align: right;\n",
       "    }\n",
       "</style>\n",
       "<table border=\"1\" class=\"dataframe\">\n",
       "  <thead>\n",
       "    <tr style=\"text-align: right;\">\n",
       "      <th></th>\n",
       "      <th>name</th>\n",
       "      <th>age</th>\n",
       "      <th>dob</th>\n",
       "      <th>area</th>\n",
       "    </tr>\n",
       "  </thead>\n",
       "  <tbody>\n",
       "    <tr>\n",
       "      <th>0</th>\n",
       "      <td>Abdullah</td>\n",
       "      <td>25</td>\n",
       "      <td>Nov 92</td>\n",
       "      <td>Dhaka</td>\n",
       "    </tr>\n",
       "    <tr>\n",
       "      <th>1</th>\n",
       "      <td>Mohammad</td>\n",
       "      <td>29</td>\n",
       "      <td>Nov 91</td>\n",
       "      <td>Rajshahi</td>\n",
       "    </tr>\n",
       "  </tbody>\n",
       "</table>\n",
       "</div>"
      ],
      "text/plain": [
       "       name  age     dob      area\n",
       "0  Abdullah   25  Nov 92     Dhaka\n",
       "1  Mohammad   29  Nov 91  Rajshahi"
      ]
     },
     "execution_count": 20,
     "metadata": {},
     "output_type": "execute_result"
    }
   ],
   "source": [
    "df2.drop('profession',axis=1)"
   ]
  },
  {
   "cell_type": "code",
   "execution_count": 21,
   "id": "63ed1607",
   "metadata": {},
   "outputs": [
    {
     "data": {
      "text/html": [
       "<div>\n",
       "<style scoped>\n",
       "    .dataframe tbody tr th:only-of-type {\n",
       "        vertical-align: middle;\n",
       "    }\n",
       "\n",
       "    .dataframe tbody tr th {\n",
       "        vertical-align: top;\n",
       "    }\n",
       "\n",
       "    .dataframe thead th {\n",
       "        text-align: right;\n",
       "    }\n",
       "</style>\n",
       "<table border=\"1\" class=\"dataframe\">\n",
       "  <thead>\n",
       "    <tr style=\"text-align: right;\">\n",
       "      <th></th>\n",
       "      <th>name</th>\n",
       "      <th>profession</th>\n",
       "      <th>age</th>\n",
       "      <th>dob</th>\n",
       "      <th>area</th>\n",
       "    </tr>\n",
       "  </thead>\n",
       "  <tbody>\n",
       "    <tr>\n",
       "      <th>0</th>\n",
       "      <td>Abdullah</td>\n",
       "      <td>Teacher</td>\n",
       "      <td>25</td>\n",
       "      <td>Nov 92</td>\n",
       "      <td>Dhaka</td>\n",
       "    </tr>\n",
       "    <tr>\n",
       "      <th>1</th>\n",
       "      <td>Mohammad</td>\n",
       "      <td>Professor</td>\n",
       "      <td>29</td>\n",
       "      <td>Nov 91</td>\n",
       "      <td>Rajshahi</td>\n",
       "    </tr>\n",
       "  </tbody>\n",
       "</table>\n",
       "</div>"
      ],
      "text/plain": [
       "       name profession  age     dob      area\n",
       "0  Abdullah    Teacher   25  Nov 92     Dhaka\n",
       "1  Mohammad  Professor   29  Nov 91  Rajshahi"
      ]
     },
     "execution_count": 21,
     "metadata": {},
     "output_type": "execute_result"
    }
   ],
   "source": [
    "df2"
   ]
  },
  {
   "cell_type": "markdown",
   "id": "3f790e31",
   "metadata": {},
   "source": [
    "<h3 style=\"color: #ff0000; font-weigth: 700\">mean( ) - mean value</h3>"
   ]
  },
  {
   "cell_type": "code",
   "execution_count": 22,
   "id": "8fc2dbf6",
   "metadata": {},
   "outputs": [],
   "source": [
    "df2['age2'] = df2.age.mean()"
   ]
  },
  {
   "cell_type": "code",
   "execution_count": 23,
   "id": "9ee3557b",
   "metadata": {},
   "outputs": [
    {
     "data": {
      "text/html": [
       "<div>\n",
       "<style scoped>\n",
       "    .dataframe tbody tr th:only-of-type {\n",
       "        vertical-align: middle;\n",
       "    }\n",
       "\n",
       "    .dataframe tbody tr th {\n",
       "        vertical-align: top;\n",
       "    }\n",
       "\n",
       "    .dataframe thead th {\n",
       "        text-align: right;\n",
       "    }\n",
       "</style>\n",
       "<table border=\"1\" class=\"dataframe\">\n",
       "  <thead>\n",
       "    <tr style=\"text-align: right;\">\n",
       "      <th></th>\n",
       "      <th>name</th>\n",
       "      <th>profession</th>\n",
       "      <th>age</th>\n",
       "      <th>dob</th>\n",
       "      <th>area</th>\n",
       "      <th>age2</th>\n",
       "    </tr>\n",
       "  </thead>\n",
       "  <tbody>\n",
       "    <tr>\n",
       "      <th>0</th>\n",
       "      <td>Abdullah</td>\n",
       "      <td>Teacher</td>\n",
       "      <td>25</td>\n",
       "      <td>Nov 92</td>\n",
       "      <td>Dhaka</td>\n",
       "      <td>27.0</td>\n",
       "    </tr>\n",
       "    <tr>\n",
       "      <th>1</th>\n",
       "      <td>Mohammad</td>\n",
       "      <td>Professor</td>\n",
       "      <td>29</td>\n",
       "      <td>Nov 91</td>\n",
       "      <td>Rajshahi</td>\n",
       "      <td>27.0</td>\n",
       "    </tr>\n",
       "  </tbody>\n",
       "</table>\n",
       "</div>"
      ],
      "text/plain": [
       "       name profession  age     dob      area  age2\n",
       "0  Abdullah    Teacher   25  Nov 92     Dhaka  27.0\n",
       "1  Mohammad  Professor   29  Nov 91  Rajshahi  27.0"
      ]
     },
     "execution_count": 23,
     "metadata": {},
     "output_type": "execute_result"
    }
   ],
   "source": [
    "df2"
   ]
  },
  {
   "cell_type": "markdown",
   "id": "82599dec",
   "metadata": {},
   "source": [
    "<h3 style=\"color: #ff0000; font-weigth: 700\">To catch value use curly brackets [ ], to catch a function use parentheses ( )</h3>"
   ]
  },
  {
   "cell_type": "code",
   "execution_count": 24,
   "id": "f1a043fe",
   "metadata": {},
   "outputs": [
    {
     "data": {
      "text/plain": [
       "0      Teacher\n",
       "1    Professor\n",
       "Name: profession, dtype: object"
      ]
     },
     "execution_count": 24,
     "metadata": {},
     "output_type": "execute_result"
    }
   ],
   "source": [
    "df2['profession']"
   ]
  },
  {
   "cell_type": "code",
   "execution_count": 25,
   "id": "983495ce",
   "metadata": {},
   "outputs": [
    {
     "data": {
      "text/plain": [
       "0    25\n",
       "1    29\n",
       "Name: age, dtype: int64"
      ]
     },
     "execution_count": 25,
     "metadata": {},
     "output_type": "execute_result"
    }
   ],
   "source": [
    "df2['age']"
   ]
  },
  {
   "cell_type": "code",
   "execution_count": 26,
   "id": "c9294547",
   "metadata": {},
   "outputs": [
    {
     "ename": "TypeError",
     "evalue": "Could not convert TeacherProfessor to numeric",
     "output_type": "error",
     "traceback": [
      "\u001b[1;31m---------------------------------------------------------------------------\u001b[0m",
      "\u001b[1;31mValueError\u001b[0m                                Traceback (most recent call last)",
      "\u001b[1;32m~\\anaconda3\\lib\\site-packages\\pandas\\core\\nanops.py\u001b[0m in \u001b[0;36m_ensure_numeric\u001b[1;34m(x)\u001b[0m\n\u001b[0;32m   1536\u001b[0m         \u001b[1;32mtry\u001b[0m\u001b[1;33m:\u001b[0m\u001b[1;33m\u001b[0m\u001b[1;33m\u001b[0m\u001b[0m\n\u001b[1;32m-> 1537\u001b[1;33m             \u001b[0mx\u001b[0m \u001b[1;33m=\u001b[0m \u001b[0mfloat\u001b[0m\u001b[1;33m(\u001b[0m\u001b[0mx\u001b[0m\u001b[1;33m)\u001b[0m\u001b[1;33m\u001b[0m\u001b[1;33m\u001b[0m\u001b[0m\n\u001b[0m\u001b[0;32m   1538\u001b[0m         \u001b[1;32mexcept\u001b[0m \u001b[0mValueError\u001b[0m\u001b[1;33m:\u001b[0m\u001b[1;33m\u001b[0m\u001b[1;33m\u001b[0m\u001b[0m\n",
      "\u001b[1;31mValueError\u001b[0m: could not convert string to float: 'TeacherProfessor'",
      "\nDuring handling of the above exception, another exception occurred:\n",
      "\u001b[1;31mValueError\u001b[0m                                Traceback (most recent call last)",
      "\u001b[1;32m~\\anaconda3\\lib\\site-packages\\pandas\\core\\nanops.py\u001b[0m in \u001b[0;36m_ensure_numeric\u001b[1;34m(x)\u001b[0m\n\u001b[0;32m   1540\u001b[0m             \u001b[1;32mtry\u001b[0m\u001b[1;33m:\u001b[0m\u001b[1;33m\u001b[0m\u001b[1;33m\u001b[0m\u001b[0m\n\u001b[1;32m-> 1541\u001b[1;33m                 \u001b[0mx\u001b[0m \u001b[1;33m=\u001b[0m \u001b[0mcomplex\u001b[0m\u001b[1;33m(\u001b[0m\u001b[0mx\u001b[0m\u001b[1;33m)\u001b[0m\u001b[1;33m\u001b[0m\u001b[1;33m\u001b[0m\u001b[0m\n\u001b[0m\u001b[0;32m   1542\u001b[0m             \u001b[1;32mexcept\u001b[0m \u001b[0mValueError\u001b[0m \u001b[1;32mas\u001b[0m \u001b[0merr\u001b[0m\u001b[1;33m:\u001b[0m\u001b[1;33m\u001b[0m\u001b[1;33m\u001b[0m\u001b[0m\n",
      "\u001b[1;31mValueError\u001b[0m: complex() arg is a malformed string",
      "\nThe above exception was the direct cause of the following exception:\n",
      "\u001b[1;31mTypeError\u001b[0m                                 Traceback (most recent call last)",
      "\u001b[1;32m<ipython-input-26-efbb84f1fdc9>\u001b[0m in \u001b[0;36m<module>\u001b[1;34m\u001b[0m\n\u001b[1;32m----> 1\u001b[1;33m \u001b[0mdf2\u001b[0m\u001b[1;33m[\u001b[0m\u001b[1;34m'prof'\u001b[0m\u001b[1;33m]\u001b[0m \u001b[1;33m=\u001b[0m \u001b[0mdf2\u001b[0m\u001b[1;33m.\u001b[0m\u001b[0mprofession\u001b[0m\u001b[1;33m.\u001b[0m\u001b[0mmean\u001b[0m\u001b[1;33m(\u001b[0m\u001b[1;33m)\u001b[0m\u001b[1;33m\u001b[0m\u001b[1;33m\u001b[0m\u001b[0m\n\u001b[0m",
      "\u001b[1;32m~\\anaconda3\\lib\\site-packages\\pandas\\core\\generic.py\u001b[0m in \u001b[0;36mmean\u001b[1;34m(self, axis, skipna, level, numeric_only, **kwargs)\u001b[0m\n\u001b[0;32m  11116\u001b[0m         )\n\u001b[0;32m  11117\u001b[0m         \u001b[1;32mdef\u001b[0m \u001b[0mmean\u001b[0m\u001b[1;33m(\u001b[0m\u001b[0mself\u001b[0m\u001b[1;33m,\u001b[0m \u001b[0maxis\u001b[0m\u001b[1;33m=\u001b[0m\u001b[1;32mNone\u001b[0m\u001b[1;33m,\u001b[0m \u001b[0mskipna\u001b[0m\u001b[1;33m=\u001b[0m\u001b[1;32mNone\u001b[0m\u001b[1;33m,\u001b[0m \u001b[0mlevel\u001b[0m\u001b[1;33m=\u001b[0m\u001b[1;32mNone\u001b[0m\u001b[1;33m,\u001b[0m \u001b[0mnumeric_only\u001b[0m\u001b[1;33m=\u001b[0m\u001b[1;32mNone\u001b[0m\u001b[1;33m,\u001b[0m \u001b[1;33m**\u001b[0m\u001b[0mkwargs\u001b[0m\u001b[1;33m)\u001b[0m\u001b[1;33m:\u001b[0m\u001b[1;33m\u001b[0m\u001b[1;33m\u001b[0m\u001b[0m\n\u001b[1;32m> 11118\u001b[1;33m             \u001b[1;32mreturn\u001b[0m \u001b[0mNDFrame\u001b[0m\u001b[1;33m.\u001b[0m\u001b[0mmean\u001b[0m\u001b[1;33m(\u001b[0m\u001b[0mself\u001b[0m\u001b[1;33m,\u001b[0m \u001b[0maxis\u001b[0m\u001b[1;33m,\u001b[0m \u001b[0mskipna\u001b[0m\u001b[1;33m,\u001b[0m \u001b[0mlevel\u001b[0m\u001b[1;33m,\u001b[0m \u001b[0mnumeric_only\u001b[0m\u001b[1;33m,\u001b[0m \u001b[1;33m**\u001b[0m\u001b[0mkwargs\u001b[0m\u001b[1;33m)\u001b[0m\u001b[1;33m\u001b[0m\u001b[1;33m\u001b[0m\u001b[0m\n\u001b[0m\u001b[0;32m  11119\u001b[0m \u001b[1;33m\u001b[0m\u001b[0m\n\u001b[0;32m  11120\u001b[0m         \u001b[1;31m# pandas\\core\\generic.py:10924: error: Cannot assign to a method\u001b[0m\u001b[1;33m\u001b[0m\u001b[1;33m\u001b[0m\u001b[1;33m\u001b[0m\u001b[0m\n",
      "\u001b[1;32m~\\anaconda3\\lib\\site-packages\\pandas\\core\\generic.py\u001b[0m in \u001b[0;36mmean\u001b[1;34m(self, axis, skipna, level, numeric_only, **kwargs)\u001b[0m\n\u001b[0;32m  10724\u001b[0m \u001b[1;33m\u001b[0m\u001b[0m\n\u001b[0;32m  10725\u001b[0m     \u001b[1;32mdef\u001b[0m \u001b[0mmean\u001b[0m\u001b[1;33m(\u001b[0m\u001b[0mself\u001b[0m\u001b[1;33m,\u001b[0m \u001b[0maxis\u001b[0m\u001b[1;33m=\u001b[0m\u001b[1;32mNone\u001b[0m\u001b[1;33m,\u001b[0m \u001b[0mskipna\u001b[0m\u001b[1;33m=\u001b[0m\u001b[1;32mNone\u001b[0m\u001b[1;33m,\u001b[0m \u001b[0mlevel\u001b[0m\u001b[1;33m=\u001b[0m\u001b[1;32mNone\u001b[0m\u001b[1;33m,\u001b[0m \u001b[0mnumeric_only\u001b[0m\u001b[1;33m=\u001b[0m\u001b[1;32mNone\u001b[0m\u001b[1;33m,\u001b[0m \u001b[1;33m**\u001b[0m\u001b[0mkwargs\u001b[0m\u001b[1;33m)\u001b[0m\u001b[1;33m:\u001b[0m\u001b[1;33m\u001b[0m\u001b[1;33m\u001b[0m\u001b[0m\n\u001b[1;32m> 10726\u001b[1;33m         return self._stat_function(\n\u001b[0m\u001b[0;32m  10727\u001b[0m             \u001b[1;34m\"mean\"\u001b[0m\u001b[1;33m,\u001b[0m \u001b[0mnanops\u001b[0m\u001b[1;33m.\u001b[0m\u001b[0mnanmean\u001b[0m\u001b[1;33m,\u001b[0m \u001b[0maxis\u001b[0m\u001b[1;33m,\u001b[0m \u001b[0mskipna\u001b[0m\u001b[1;33m,\u001b[0m \u001b[0mlevel\u001b[0m\u001b[1;33m,\u001b[0m \u001b[0mnumeric_only\u001b[0m\u001b[1;33m,\u001b[0m \u001b[1;33m**\u001b[0m\u001b[0mkwargs\u001b[0m\u001b[1;33m\u001b[0m\u001b[1;33m\u001b[0m\u001b[0m\n\u001b[0;32m  10728\u001b[0m         )\n",
      "\u001b[1;32m~\\anaconda3\\lib\\site-packages\\pandas\\core\\generic.py\u001b[0m in \u001b[0;36m_stat_function\u001b[1;34m(self, name, func, axis, skipna, level, numeric_only, **kwargs)\u001b[0m\n\u001b[0;32m  10709\u001b[0m         \u001b[1;32mif\u001b[0m \u001b[0mlevel\u001b[0m \u001b[1;32mis\u001b[0m \u001b[1;32mnot\u001b[0m \u001b[1;32mNone\u001b[0m\u001b[1;33m:\u001b[0m\u001b[1;33m\u001b[0m\u001b[1;33m\u001b[0m\u001b[0m\n\u001b[0;32m  10710\u001b[0m             \u001b[1;32mreturn\u001b[0m \u001b[0mself\u001b[0m\u001b[1;33m.\u001b[0m\u001b[0m_agg_by_level\u001b[0m\u001b[1;33m(\u001b[0m\u001b[0mname\u001b[0m\u001b[1;33m,\u001b[0m \u001b[0maxis\u001b[0m\u001b[1;33m=\u001b[0m\u001b[0maxis\u001b[0m\u001b[1;33m,\u001b[0m \u001b[0mlevel\u001b[0m\u001b[1;33m=\u001b[0m\u001b[0mlevel\u001b[0m\u001b[1;33m,\u001b[0m \u001b[0mskipna\u001b[0m\u001b[1;33m=\u001b[0m\u001b[0mskipna\u001b[0m\u001b[1;33m)\u001b[0m\u001b[1;33m\u001b[0m\u001b[1;33m\u001b[0m\u001b[0m\n\u001b[1;32m> 10711\u001b[1;33m         return self._reduce(\n\u001b[0m\u001b[0;32m  10712\u001b[0m             \u001b[0mfunc\u001b[0m\u001b[1;33m,\u001b[0m \u001b[0mname\u001b[0m\u001b[1;33m=\u001b[0m\u001b[0mname\u001b[0m\u001b[1;33m,\u001b[0m \u001b[0maxis\u001b[0m\u001b[1;33m=\u001b[0m\u001b[0maxis\u001b[0m\u001b[1;33m,\u001b[0m \u001b[0mskipna\u001b[0m\u001b[1;33m=\u001b[0m\u001b[0mskipna\u001b[0m\u001b[1;33m,\u001b[0m \u001b[0mnumeric_only\u001b[0m\u001b[1;33m=\u001b[0m\u001b[0mnumeric_only\u001b[0m\u001b[1;33m\u001b[0m\u001b[1;33m\u001b[0m\u001b[0m\n\u001b[0;32m  10713\u001b[0m         )\n",
      "\u001b[1;32m~\\anaconda3\\lib\\site-packages\\pandas\\core\\series.py\u001b[0m in \u001b[0;36m_reduce\u001b[1;34m(self, op, name, axis, skipna, numeric_only, filter_type, **kwds)\u001b[0m\n\u001b[0;32m   4180\u001b[0m                 )\n\u001b[0;32m   4181\u001b[0m             \u001b[1;32mwith\u001b[0m \u001b[0mnp\u001b[0m\u001b[1;33m.\u001b[0m\u001b[0merrstate\u001b[0m\u001b[1;33m(\u001b[0m\u001b[0mall\u001b[0m\u001b[1;33m=\u001b[0m\u001b[1;34m\"ignore\"\u001b[0m\u001b[1;33m)\u001b[0m\u001b[1;33m:\u001b[0m\u001b[1;33m\u001b[0m\u001b[1;33m\u001b[0m\u001b[0m\n\u001b[1;32m-> 4182\u001b[1;33m                 \u001b[1;32mreturn\u001b[0m \u001b[0mop\u001b[0m\u001b[1;33m(\u001b[0m\u001b[0mdelegate\u001b[0m\u001b[1;33m,\u001b[0m \u001b[0mskipna\u001b[0m\u001b[1;33m=\u001b[0m\u001b[0mskipna\u001b[0m\u001b[1;33m,\u001b[0m \u001b[1;33m**\u001b[0m\u001b[0mkwds\u001b[0m\u001b[1;33m)\u001b[0m\u001b[1;33m\u001b[0m\u001b[1;33m\u001b[0m\u001b[0m\n\u001b[0m\u001b[0;32m   4183\u001b[0m \u001b[1;33m\u001b[0m\u001b[0m\n\u001b[0;32m   4184\u001b[0m     \u001b[1;32mdef\u001b[0m \u001b[0m_reindex_indexer\u001b[0m\u001b[1;33m(\u001b[0m\u001b[0mself\u001b[0m\u001b[1;33m,\u001b[0m \u001b[0mnew_index\u001b[0m\u001b[1;33m,\u001b[0m \u001b[0mindexer\u001b[0m\u001b[1;33m,\u001b[0m \u001b[0mcopy\u001b[0m\u001b[1;33m)\u001b[0m\u001b[1;33m:\u001b[0m\u001b[1;33m\u001b[0m\u001b[1;33m\u001b[0m\u001b[0m\n",
      "\u001b[1;32m~\\anaconda3\\lib\\site-packages\\pandas\\core\\nanops.py\u001b[0m in \u001b[0;36m_f\u001b[1;34m(*args, **kwargs)\u001b[0m\n\u001b[0;32m     71\u001b[0m             \u001b[1;32mtry\u001b[0m\u001b[1;33m:\u001b[0m\u001b[1;33m\u001b[0m\u001b[1;33m\u001b[0m\u001b[0m\n\u001b[0;32m     72\u001b[0m                 \u001b[1;32mwith\u001b[0m \u001b[0mnp\u001b[0m\u001b[1;33m.\u001b[0m\u001b[0merrstate\u001b[0m\u001b[1;33m(\u001b[0m\u001b[0minvalid\u001b[0m\u001b[1;33m=\u001b[0m\u001b[1;34m\"ignore\"\u001b[0m\u001b[1;33m)\u001b[0m\u001b[1;33m:\u001b[0m\u001b[1;33m\u001b[0m\u001b[1;33m\u001b[0m\u001b[0m\n\u001b[1;32m---> 73\u001b[1;33m                     \u001b[1;32mreturn\u001b[0m \u001b[0mf\u001b[0m\u001b[1;33m(\u001b[0m\u001b[1;33m*\u001b[0m\u001b[0margs\u001b[0m\u001b[1;33m,\u001b[0m \u001b[1;33m**\u001b[0m\u001b[0mkwargs\u001b[0m\u001b[1;33m)\u001b[0m\u001b[1;33m\u001b[0m\u001b[1;33m\u001b[0m\u001b[0m\n\u001b[0m\u001b[0;32m     74\u001b[0m             \u001b[1;32mexcept\u001b[0m \u001b[0mValueError\u001b[0m \u001b[1;32mas\u001b[0m \u001b[0me\u001b[0m\u001b[1;33m:\u001b[0m\u001b[1;33m\u001b[0m\u001b[1;33m\u001b[0m\u001b[0m\n\u001b[0;32m     75\u001b[0m                 \u001b[1;31m# we want to transform an object array\u001b[0m\u001b[1;33m\u001b[0m\u001b[1;33m\u001b[0m\u001b[1;33m\u001b[0m\u001b[0m\n",
      "\u001b[1;32m~\\anaconda3\\lib\\site-packages\\pandas\\core\\nanops.py\u001b[0m in \u001b[0;36mf\u001b[1;34m(values, axis, skipna, **kwds)\u001b[0m\n\u001b[0;32m    133\u001b[0m                     \u001b[0mresult\u001b[0m \u001b[1;33m=\u001b[0m \u001b[0malt\u001b[0m\u001b[1;33m(\u001b[0m\u001b[0mvalues\u001b[0m\u001b[1;33m,\u001b[0m \u001b[0maxis\u001b[0m\u001b[1;33m=\u001b[0m\u001b[0maxis\u001b[0m\u001b[1;33m,\u001b[0m \u001b[0mskipna\u001b[0m\u001b[1;33m=\u001b[0m\u001b[0mskipna\u001b[0m\u001b[1;33m,\u001b[0m \u001b[1;33m**\u001b[0m\u001b[0mkwds\u001b[0m\u001b[1;33m)\u001b[0m\u001b[1;33m\u001b[0m\u001b[1;33m\u001b[0m\u001b[0m\n\u001b[0;32m    134\u001b[0m             \u001b[1;32melse\u001b[0m\u001b[1;33m:\u001b[0m\u001b[1;33m\u001b[0m\u001b[1;33m\u001b[0m\u001b[0m\n\u001b[1;32m--> 135\u001b[1;33m                 \u001b[0mresult\u001b[0m \u001b[1;33m=\u001b[0m \u001b[0malt\u001b[0m\u001b[1;33m(\u001b[0m\u001b[0mvalues\u001b[0m\u001b[1;33m,\u001b[0m \u001b[0maxis\u001b[0m\u001b[1;33m=\u001b[0m\u001b[0maxis\u001b[0m\u001b[1;33m,\u001b[0m \u001b[0mskipna\u001b[0m\u001b[1;33m=\u001b[0m\u001b[0mskipna\u001b[0m\u001b[1;33m,\u001b[0m \u001b[1;33m**\u001b[0m\u001b[0mkwds\u001b[0m\u001b[1;33m)\u001b[0m\u001b[1;33m\u001b[0m\u001b[1;33m\u001b[0m\u001b[0m\n\u001b[0m\u001b[0;32m    136\u001b[0m \u001b[1;33m\u001b[0m\u001b[0m\n\u001b[0;32m    137\u001b[0m             \u001b[1;32mreturn\u001b[0m \u001b[0mresult\u001b[0m\u001b[1;33m\u001b[0m\u001b[1;33m\u001b[0m\u001b[0m\n",
      "\u001b[1;32m~\\anaconda3\\lib\\site-packages\\pandas\\core\\nanops.py\u001b[0m in \u001b[0;36mnew_func\u001b[1;34m(values, axis, skipna, mask, **kwargs)\u001b[0m\n\u001b[0;32m    392\u001b[0m             \u001b[0mmask\u001b[0m \u001b[1;33m=\u001b[0m \u001b[0misna\u001b[0m\u001b[1;33m(\u001b[0m\u001b[0mvalues\u001b[0m\u001b[1;33m)\u001b[0m\u001b[1;33m\u001b[0m\u001b[1;33m\u001b[0m\u001b[0m\n\u001b[0;32m    393\u001b[0m \u001b[1;33m\u001b[0m\u001b[0m\n\u001b[1;32m--> 394\u001b[1;33m         \u001b[0mresult\u001b[0m \u001b[1;33m=\u001b[0m \u001b[0mfunc\u001b[0m\u001b[1;33m(\u001b[0m\u001b[0mvalues\u001b[0m\u001b[1;33m,\u001b[0m \u001b[0maxis\u001b[0m\u001b[1;33m=\u001b[0m\u001b[0maxis\u001b[0m\u001b[1;33m,\u001b[0m \u001b[0mskipna\u001b[0m\u001b[1;33m=\u001b[0m\u001b[0mskipna\u001b[0m\u001b[1;33m,\u001b[0m \u001b[0mmask\u001b[0m\u001b[1;33m=\u001b[0m\u001b[0mmask\u001b[0m\u001b[1;33m,\u001b[0m \u001b[1;33m**\u001b[0m\u001b[0mkwargs\u001b[0m\u001b[1;33m)\u001b[0m\u001b[1;33m\u001b[0m\u001b[1;33m\u001b[0m\u001b[0m\n\u001b[0m\u001b[0;32m    395\u001b[0m \u001b[1;33m\u001b[0m\u001b[0m\n\u001b[0;32m    396\u001b[0m         \u001b[1;32mif\u001b[0m \u001b[0mdatetimelike\u001b[0m\u001b[1;33m:\u001b[0m\u001b[1;33m\u001b[0m\u001b[1;33m\u001b[0m\u001b[0m\n",
      "\u001b[1;32m~\\anaconda3\\lib\\site-packages\\pandas\\core\\nanops.py\u001b[0m in \u001b[0;36mnanmean\u001b[1;34m(values, axis, skipna, mask)\u001b[0m\n\u001b[0;32m    631\u001b[0m \u001b[1;33m\u001b[0m\u001b[0m\n\u001b[0;32m    632\u001b[0m     \u001b[0mcount\u001b[0m \u001b[1;33m=\u001b[0m \u001b[0m_get_counts\u001b[0m\u001b[1;33m(\u001b[0m\u001b[0mvalues\u001b[0m\u001b[1;33m.\u001b[0m\u001b[0mshape\u001b[0m\u001b[1;33m,\u001b[0m \u001b[0mmask\u001b[0m\u001b[1;33m,\u001b[0m \u001b[0maxis\u001b[0m\u001b[1;33m,\u001b[0m \u001b[0mdtype\u001b[0m\u001b[1;33m=\u001b[0m\u001b[0mdtype_count\u001b[0m\u001b[1;33m)\u001b[0m\u001b[1;33m\u001b[0m\u001b[1;33m\u001b[0m\u001b[0m\n\u001b[1;32m--> 633\u001b[1;33m     \u001b[0mthe_sum\u001b[0m \u001b[1;33m=\u001b[0m \u001b[0m_ensure_numeric\u001b[0m\u001b[1;33m(\u001b[0m\u001b[0mvalues\u001b[0m\u001b[1;33m.\u001b[0m\u001b[0msum\u001b[0m\u001b[1;33m(\u001b[0m\u001b[0maxis\u001b[0m\u001b[1;33m,\u001b[0m \u001b[0mdtype\u001b[0m\u001b[1;33m=\u001b[0m\u001b[0mdtype_sum\u001b[0m\u001b[1;33m)\u001b[0m\u001b[1;33m)\u001b[0m\u001b[1;33m\u001b[0m\u001b[1;33m\u001b[0m\u001b[0m\n\u001b[0m\u001b[0;32m    634\u001b[0m \u001b[1;33m\u001b[0m\u001b[0m\n\u001b[0;32m    635\u001b[0m     \u001b[1;32mif\u001b[0m \u001b[0maxis\u001b[0m \u001b[1;32mis\u001b[0m \u001b[1;32mnot\u001b[0m \u001b[1;32mNone\u001b[0m \u001b[1;32mand\u001b[0m \u001b[0mgetattr\u001b[0m\u001b[1;33m(\u001b[0m\u001b[0mthe_sum\u001b[0m\u001b[1;33m,\u001b[0m \u001b[1;34m\"ndim\"\u001b[0m\u001b[1;33m,\u001b[0m \u001b[1;32mFalse\u001b[0m\u001b[1;33m)\u001b[0m\u001b[1;33m:\u001b[0m\u001b[1;33m\u001b[0m\u001b[1;33m\u001b[0m\u001b[0m\n",
      "\u001b[1;32m~\\anaconda3\\lib\\site-packages\\pandas\\core\\nanops.py\u001b[0m in \u001b[0;36m_ensure_numeric\u001b[1;34m(x)\u001b[0m\n\u001b[0;32m   1542\u001b[0m             \u001b[1;32mexcept\u001b[0m \u001b[0mValueError\u001b[0m \u001b[1;32mas\u001b[0m \u001b[0merr\u001b[0m\u001b[1;33m:\u001b[0m\u001b[1;33m\u001b[0m\u001b[1;33m\u001b[0m\u001b[0m\n\u001b[0;32m   1543\u001b[0m                 \u001b[1;31m# e.g. \"foo\"\u001b[0m\u001b[1;33m\u001b[0m\u001b[1;33m\u001b[0m\u001b[1;33m\u001b[0m\u001b[0m\n\u001b[1;32m-> 1544\u001b[1;33m                 \u001b[1;32mraise\u001b[0m \u001b[0mTypeError\u001b[0m\u001b[1;33m(\u001b[0m\u001b[1;34mf\"Could not convert {x} to numeric\"\u001b[0m\u001b[1;33m)\u001b[0m \u001b[1;32mfrom\u001b[0m \u001b[0merr\u001b[0m\u001b[1;33m\u001b[0m\u001b[1;33m\u001b[0m\u001b[0m\n\u001b[0m\u001b[0;32m   1545\u001b[0m     \u001b[1;32mreturn\u001b[0m \u001b[0mx\u001b[0m\u001b[1;33m\u001b[0m\u001b[1;33m\u001b[0m\u001b[0m\n\u001b[0;32m   1546\u001b[0m \u001b[1;33m\u001b[0m\u001b[0m\n",
      "\u001b[1;31mTypeError\u001b[0m: Could not convert TeacherProfessor to numeric"
     ]
    }
   ],
   "source": [
    "df2['prof'] = df2.profession.mean()"
   ]
  },
  {
   "cell_type": "markdown",
   "id": "8677be22",
   "metadata": {},
   "source": [
    "<h3 style=\"color: #ff0000; font-weigth: 700\">only possible for number or float - can't possible convert to number or float(numeric)</h3>"
   ]
  },
  {
   "cell_type": "code",
   "execution_count": 27,
   "id": "6ea81278",
   "metadata": {},
   "outputs": [
    {
     "data": {
      "text/html": [
       "<div>\n",
       "<style scoped>\n",
       "    .dataframe tbody tr th:only-of-type {\n",
       "        vertical-align: middle;\n",
       "    }\n",
       "\n",
       "    .dataframe tbody tr th {\n",
       "        vertical-align: top;\n",
       "    }\n",
       "\n",
       "    .dataframe thead th {\n",
       "        text-align: right;\n",
       "    }\n",
       "</style>\n",
       "<table border=\"1\" class=\"dataframe\">\n",
       "  <thead>\n",
       "    <tr style=\"text-align: right;\">\n",
       "      <th></th>\n",
       "      <th>name</th>\n",
       "      <th>profession</th>\n",
       "      <th>age</th>\n",
       "      <th>dob</th>\n",
       "      <th>area</th>\n",
       "      <th>age2</th>\n",
       "    </tr>\n",
       "  </thead>\n",
       "  <tbody>\n",
       "    <tr>\n",
       "      <th>0</th>\n",
       "      <td>Abdullah</td>\n",
       "      <td>Teacher</td>\n",
       "      <td>25</td>\n",
       "      <td>Nov 92</td>\n",
       "      <td>Dhaka</td>\n",
       "      <td>27.0</td>\n",
       "    </tr>\n",
       "    <tr>\n",
       "      <th>1</th>\n",
       "      <td>Mohammad</td>\n",
       "      <td>Professor</td>\n",
       "      <td>29</td>\n",
       "      <td>Nov 91</td>\n",
       "      <td>Rajshahi</td>\n",
       "      <td>27.0</td>\n",
       "    </tr>\n",
       "  </tbody>\n",
       "</table>\n",
       "</div>"
      ],
      "text/plain": [
       "       name profession  age     dob      area  age2\n",
       "0  Abdullah    Teacher   25  Nov 92     Dhaka  27.0\n",
       "1  Mohammad  Professor   29  Nov 91  Rajshahi  27.0"
      ]
     },
     "execution_count": 27,
     "metadata": {},
     "output_type": "execute_result"
    }
   ],
   "source": [
    "df2"
   ]
  },
  {
   "cell_type": "markdown",
   "id": "ca178709",
   "metadata": {},
   "source": [
    "<h3 style=\"color: #ff0000; font-weigth: 700\">To count values use value_counts() function</h3>"
   ]
  },
  {
   "cell_type": "code",
   "execution_count": 29,
   "id": "70f0d90a",
   "metadata": {},
   "outputs": [
    {
     "data": {
      "text/plain": [
       "Abdullah    1\n",
       "Mohammad    1\n",
       "Name: name, dtype: int64"
      ]
     },
     "execution_count": 29,
     "metadata": {},
     "output_type": "execute_result"
    }
   ],
   "source": [
    "df2.name.value_counts()"
   ]
  },
  {
   "cell_type": "code",
   "execution_count": 37,
   "id": "29658619",
   "metadata": {},
   "outputs": [
    {
     "data": {
      "text/plain": [
       "(2, 6)"
      ]
     },
     "execution_count": 37,
     "metadata": {},
     "output_type": "execute_result"
    }
   ],
   "source": [
    "df2.shape"
   ]
  },
  {
   "cell_type": "code",
   "execution_count": null,
   "id": "86d5ba1b",
   "metadata": {},
   "outputs": [],
   "source": [
    "df2."
   ]
  }
 ],
 "metadata": {
  "kernelspec": {
   "display_name": "Python 3",
   "language": "python",
   "name": "python3"
  },
  "language_info": {
   "codemirror_mode": {
    "name": "ipython",
    "version": 3
   },
   "file_extension": ".py",
   "mimetype": "text/x-python",
   "name": "python",
   "nbconvert_exporter": "python",
   "pygments_lexer": "ipython3",
   "version": "3.8.8"
  }
 },
 "nbformat": 4,
 "nbformat_minor": 5
}
